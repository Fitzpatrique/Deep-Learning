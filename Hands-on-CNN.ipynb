{
 "cells": [
  {
   "cell_type": "markdown",
   "id": "b7842c32",
   "metadata": {},
   "source": [
    "# Convolutional Neural Network"
   ]
  },
  {
   "cell_type": "markdown",
   "id": "27e7a301",
   "metadata": {},
   "source": [
    "Import the necessary libraries"
   ]
  },
  {
   "cell_type": "code",
   "execution_count": 1,
   "id": "ed950684",
   "metadata": {},
   "outputs": [],
   "source": [
    "#import numpy as np\n",
    "#import pandas as pd\n",
    "#import matplotlib.pyplot as plt\n",
    "import tensorflow as tf\n",
    "from keras.preprocessing.image import ImageDataGenerator\n",
    "#%matplotlib inline"
   ]
  },
  {
   "cell_type": "code",
   "execution_count": 2,
   "id": "8182f70b",
   "metadata": {},
   "outputs": [
    {
     "data": {
      "text/plain": [
       "'2.5.0'"
      ]
     },
     "execution_count": 2,
     "metadata": {},
     "output_type": "execute_result"
    }
   ],
   "source": [
    "tf.__version__"
   ]
  },
  {
   "cell_type": "markdown",
   "id": "fedaebd7",
   "metadata": {},
   "source": [
    "## Part 1: Data Preprocessing"
   ]
  },
  {
   "cell_type": "markdown",
   "id": "2d04566b",
   "metadata": {},
   "source": [
    "Preprocessing the training dataset"
   ]
  },
  {
   "cell_type": "code",
   "execution_count": 5,
   "id": "0b86b80b",
   "metadata": {},
   "outputs": [
    {
     "name": "stdout",
     "output_type": "stream",
     "text": [
      "Found 8000 images belonging to 2 classes.\n"
     ]
    }
   ],
   "source": [
    "train_datagen = ImageDataGenerator(\n",
    "        rescale=1./255,\n",
    "        shear_range=0.2,\n",
    "        zoom_range=0.2,\n",
    "        horizontal_flip=True)\n",
    "\n",
    "training_set = train_datagen.flow_from_directory(\n",
    "        'dataset/training_set',\n",
    "        target_size=(64, 64),\n",
    "        batch_size=32,\n",
    "        class_mode='binary')"
   ]
  },
  {
   "cell_type": "markdown",
   "id": "4e361178",
   "metadata": {},
   "source": [
    "Preprocessing the test dataset"
   ]
  },
  {
   "cell_type": "code",
   "execution_count": 6,
   "id": "38681541",
   "metadata": {},
   "outputs": [
    {
     "name": "stdout",
     "output_type": "stream",
     "text": [
      "Found 2000 images belonging to 2 classes.\n"
     ]
    }
   ],
   "source": [
    "test_datagen = ImageDataGenerator(rescale=1./255)\n",
    "\n",
    "test_set = test_datagen.flow_from_directory(\n",
    "        'dataset/test_set',\n",
    "        target_size=(64, 64),\n",
    "        batch_size=32,\n",
    "        class_mode='binary')"
   ]
  },
  {
   "cell_type": "markdown",
   "id": "8d773357",
   "metadata": {},
   "source": [
    "## Part 2: Building the CNN"
   ]
  },
  {
   "cell_type": "markdown",
   "id": "da17a083",
   "metadata": {},
   "source": [
    "Initializing the CNN"
   ]
  },
  {
   "cell_type": "code",
   "execution_count": 7,
   "id": "c8dcc639",
   "metadata": {},
   "outputs": [],
   "source": [
    "cnn = tf.keras.models.Sequential()"
   ]
  },
  {
   "cell_type": "markdown",
   "id": "da5d50bc",
   "metadata": {},
   "source": [
    "Step 1: Convolution"
   ]
  },
  {
   "cell_type": "code",
   "execution_count": 8,
   "id": "9942ca6d",
   "metadata": {},
   "outputs": [],
   "source": [
    "cnn.add(tf.keras.layers.Conv2D(filters=32, kernel_size=3, activation='relu', input_shape=[64,64,3]))"
   ]
  },
  {
   "cell_type": "markdown",
   "id": "d794ffed",
   "metadata": {},
   "source": [
    "Step 2: Pooling"
   ]
  },
  {
   "cell_type": "code",
   "execution_count": 9,
   "id": "8795993d",
   "metadata": {},
   "outputs": [],
   "source": [
    "cnn.add(tf.keras.layers.MaxPool2D(pool_size=2, strides=2))"
   ]
  },
  {
   "cell_type": "markdown",
   "id": "3c0c6e28",
   "metadata": {},
   "source": [
    "Adding a second convolutional layer"
   ]
  },
  {
   "cell_type": "code",
   "execution_count": 10,
   "id": "9675b480",
   "metadata": {},
   "outputs": [],
   "source": [
    "cnn.add(tf.keras.layers.Conv2D(filters=32, kernel_size=3, activation='relu'))\n",
    "cnn.add(tf.keras.layers.MaxPool2D(pool_size=2, strides=2))"
   ]
  },
  {
   "cell_type": "markdown",
   "id": "b50dcee2",
   "metadata": {},
   "source": [
    "Step 3: Flattening"
   ]
  },
  {
   "cell_type": "code",
   "execution_count": 11,
   "id": "23eedf80",
   "metadata": {},
   "outputs": [],
   "source": [
    "cnn.add(tf.keras.layers.Flatten())"
   ]
  },
  {
   "cell_type": "markdown",
   "id": "169c5e8e",
   "metadata": {},
   "source": [
    "Step 4: Full Connection"
   ]
  },
  {
   "cell_type": "code",
   "execution_count": 12,
   "id": "c2f0fdd2",
   "metadata": {},
   "outputs": [],
   "source": [
    "cnn.add(tf.keras.layers.Dense(units=128, activation='relu'))"
   ]
  },
  {
   "cell_type": "markdown",
   "id": "1df54aa0",
   "metadata": {},
   "source": [
    "Step 5: Output layer"
   ]
  },
  {
   "cell_type": "code",
   "execution_count": 13,
   "id": "0a3e877e",
   "metadata": {},
   "outputs": [],
   "source": [
    "cnn.add(tf.keras.layers.Dense(units=1, activation='sigmoid'))"
   ]
  },
  {
   "cell_type": "markdown",
   "id": "050e8b83",
   "metadata": {},
   "source": [
    "## Part 3: Training the CNN"
   ]
  },
  {
   "cell_type": "markdown",
   "id": "45e10eb0",
   "metadata": {},
   "source": [
    "Compiling the CNN"
   ]
  },
  {
   "cell_type": "code",
   "execution_count": 14,
   "id": "126827fe",
   "metadata": {},
   "outputs": [],
   "source": [
    "cnn.compile(optimizer = 'adam', loss = 'binary_crossentropy', metrics = ['accuracy'])"
   ]
  },
  {
   "cell_type": "markdown",
   "id": "55169293",
   "metadata": {},
   "source": [
    "Training the CNN on the training set and evaluating it on the test set"
   ]
  },
  {
   "cell_type": "code",
   "execution_count": 15,
   "id": "a6da4f66",
   "metadata": {},
   "outputs": [
    {
     "name": "stdout",
     "output_type": "stream",
     "text": [
      "Epoch 1/30\n",
      "250/250 [==============================] - 562s 2s/step - loss: 0.6850 - accuracy: 0.5496 - val_loss: 0.6389 - val_accuracy: 0.6470\n",
      "Epoch 2/30\n",
      "250/250 [==============================] - 175s 698ms/step - loss: 0.6145 - accuracy: 0.6614 - val_loss: 0.5628 - val_accuracy: 0.7125\n",
      "Epoch 3/30\n",
      "250/250 [==============================] - 175s 699ms/step - loss: 0.5662 - accuracy: 0.7086 - val_loss: 0.5427 - val_accuracy: 0.7340\n",
      "Epoch 4/30\n",
      "250/250 [==============================] - 173s 691ms/step - loss: 0.5323 - accuracy: 0.7265 - val_loss: 0.5043 - val_accuracy: 0.7565\n",
      "Epoch 5/30\n",
      "250/250 [==============================] - 175s 699ms/step - loss: 0.5147 - accuracy: 0.7480 - val_loss: 0.4945 - val_accuracy: 0.7635\n",
      "Epoch 6/30\n",
      "250/250 [==============================] - 171s 684ms/step - loss: 0.4990 - accuracy: 0.7570 - val_loss: 0.5028 - val_accuracy: 0.7585\n",
      "Epoch 7/30\n",
      "250/250 [==============================] - 173s 694ms/step - loss: 0.4742 - accuracy: 0.7761 - val_loss: 0.4934 - val_accuracy: 0.7740\n",
      "Epoch 8/30\n",
      "250/250 [==============================] - 165s 659ms/step - loss: 0.4598 - accuracy: 0.7740 - val_loss: 0.4948 - val_accuracy: 0.7585\n",
      "Epoch 9/30\n",
      "250/250 [==============================] - 179s 717ms/step - loss: 0.4428 - accuracy: 0.7930 - val_loss: 0.4584 - val_accuracy: 0.7850\n",
      "Epoch 10/30\n",
      "250/250 [==============================] - 182s 726ms/step - loss: 0.4295 - accuracy: 0.7989 - val_loss: 0.5147 - val_accuracy: 0.7520\n",
      "Epoch 11/30\n",
      "250/250 [==============================] - 166s 662ms/step - loss: 0.4244 - accuracy: 0.8040 - val_loss: 0.4733 - val_accuracy: 0.7830\n",
      "Epoch 12/30\n",
      "250/250 [==============================] - 176s 705ms/step - loss: 0.4126 - accuracy: 0.8066 - val_loss: 0.4450 - val_accuracy: 0.7875\n",
      "Epoch 13/30\n",
      "250/250 [==============================] - 181s 723ms/step - loss: 0.4012 - accuracy: 0.8175 - val_loss: 0.4649 - val_accuracy: 0.7870\n",
      "Epoch 14/30\n",
      "250/250 [==============================] - 182s 728ms/step - loss: 0.3887 - accuracy: 0.8244 - val_loss: 0.4352 - val_accuracy: 0.8060\n",
      "Epoch 15/30\n",
      "250/250 [==============================] - 171s 685ms/step - loss: 0.3806 - accuracy: 0.8319 - val_loss: 0.4369 - val_accuracy: 0.8030\n",
      "Epoch 16/30\n",
      "250/250 [==============================] - 181s 724ms/step - loss: 0.3716 - accuracy: 0.8294 - val_loss: 0.4645 - val_accuracy: 0.7875\n",
      "Epoch 17/30\n",
      "250/250 [==============================] - 182s 730ms/step - loss: 0.3668 - accuracy: 0.8342 - val_loss: 0.4508 - val_accuracy: 0.7990\n",
      "Epoch 18/30\n",
      "250/250 [==============================] - 182s 729ms/step - loss: 0.3577 - accuracy: 0.8384 - val_loss: 0.4398 - val_accuracy: 0.7995\n",
      "Epoch 19/30\n",
      "250/250 [==============================] - 179s 718ms/step - loss: 0.3534 - accuracy: 0.8380 - val_loss: 0.4484 - val_accuracy: 0.7980\n",
      "Epoch 20/30\n",
      "250/250 [==============================] - 170s 680ms/step - loss: 0.3405 - accuracy: 0.8468 - val_loss: 0.4575 - val_accuracy: 0.7930\n",
      "Epoch 21/30\n",
      "250/250 [==============================] - 180s 718ms/step - loss: 0.3355 - accuracy: 0.8510 - val_loss: 0.4341 - val_accuracy: 0.8095\n",
      "Epoch 22/30\n",
      "250/250 [==============================] - 189s 757ms/step - loss: 0.3234 - accuracy: 0.8565 - val_loss: 0.4593 - val_accuracy: 0.8050\n",
      "Epoch 23/30\n",
      "250/250 [==============================] - 191s 765ms/step - loss: 0.3157 - accuracy: 0.8626 - val_loss: 0.4537 - val_accuracy: 0.8115\n",
      "Epoch 24/30\n",
      "250/250 [==============================] - 190s 760ms/step - loss: 0.2985 - accuracy: 0.8711 - val_loss: 0.4369 - val_accuracy: 0.8030\n",
      "Epoch 25/30\n",
      "250/250 [==============================] - 187s 749ms/step - loss: 0.2897 - accuracy: 0.8724 - val_loss: 0.4639 - val_accuracy: 0.8055\n",
      "Epoch 26/30\n",
      "250/250 [==============================] - 186s 745ms/step - loss: 0.2862 - accuracy: 0.8767 - val_loss: 0.4576 - val_accuracy: 0.8045\n",
      "Epoch 27/30\n",
      "250/250 [==============================] - 179s 717ms/step - loss: 0.2839 - accuracy: 0.8759 - val_loss: 0.4577 - val_accuracy: 0.8120\n",
      "Epoch 28/30\n",
      "250/250 [==============================] - 187s 747ms/step - loss: 0.2690 - accuracy: 0.8861 - val_loss: 0.4636 - val_accuracy: 0.8120\n",
      "Epoch 29/30\n",
      "250/250 [==============================] - 180s 721ms/step - loss: 0.2724 - accuracy: 0.8852 - val_loss: 0.5720 - val_accuracy: 0.7565\n",
      "Epoch 30/30\n",
      "250/250 [==============================] - 182s 728ms/step - loss: 0.2605 - accuracy: 0.8896 - val_loss: 0.4881 - val_accuracy: 0.8035\n"
     ]
    },
    {
     "data": {
      "text/plain": [
       "<tensorflow.python.keras.callbacks.History at 0x17672a4fb80>"
      ]
     },
     "execution_count": 15,
     "metadata": {},
     "output_type": "execute_result"
    }
   ],
   "source": [
    "cnn.fit(x = training_set, validation_data = test_set, epochs = 30)"
   ]
  },
  {
   "cell_type": "code",
   "execution_count": 16,
   "id": "ecb80c73",
   "metadata": {},
   "outputs": [
    {
     "name": "stdout",
     "output_type": "stream",
     "text": [
      "INFO:tensorflow:Assets written to: saved_model/my_cnn_model\\assets\n"
     ]
    }
   ],
   "source": [
    "# Save the entire model as a SavedModel.\n",
    "!mkdir -p saved_model\n",
    "cnn.save('saved_model/my_cnn_model')"
   ]
  },
  {
   "cell_type": "code",
   "execution_count": 19,
   "id": "5c48d3e2",
   "metadata": {},
   "outputs": [],
   "source": [
    "cnn.save('saved_model(1)/my_cnn_model.h5')"
   ]
  },
  {
   "cell_type": "markdown",
   "id": "8ab79221",
   "metadata": {},
   "source": [
    "## Part 4: Making a single prediction"
   ]
  },
  {
   "cell_type": "code",
   "execution_count": null,
   "id": "4ca044ef",
   "metadata": {},
   "outputs": [],
   "source": [
    "# Load saved model\n",
    "new_model = tf.keras.models.load_model('saved_model/my_cnn_model')"
   ]
  },
  {
   "cell_type": "code",
   "execution_count": 17,
   "id": "85c717ef",
   "metadata": {},
   "outputs": [],
   "source": [
    "import numpy as np\n",
    "from keras.preprocessing import image\n",
    "test_image = image.load_img('dataset/single_prediction/cat_or_dog_1.jpg', target_size = (64, 64))\n",
    "test_image = image.img_to_array(test_image)\n",
    "test_image = np.expand_dims(test_image, axis = 0)\n",
    "result = cnn.predict(test_image/255.0)\n",
    "training_set.class_indices\n",
    "if result[0][0] > 0.5:\n",
    "    prediction = 'Dog'\n",
    "else:\n",
    "    prediction = 'Cat'"
   ]
  },
  {
   "cell_type": "code",
   "execution_count": 18,
   "id": "52db98f5",
   "metadata": {},
   "outputs": [
    {
     "name": "stdout",
     "output_type": "stream",
     "text": [
      "Dog\n"
     ]
    }
   ],
   "source": [
    "print(prediction)"
   ]
  }
 ],
 "metadata": {
  "kernelspec": {
   "display_name": "Python 3",
   "language": "python",
   "name": "python3"
  },
  "language_info": {
   "codemirror_mode": {
    "name": "ipython",
    "version": 3
   },
   "file_extension": ".py",
   "mimetype": "text/x-python",
   "name": "python",
   "nbconvert_exporter": "python",
   "pygments_lexer": "ipython3",
   "version": "3.8.8"
  }
 },
 "nbformat": 4,
 "nbformat_minor": 5
}
